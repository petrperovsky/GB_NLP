{
 "cells": [
  {
   "cell_type": "code",
   "execution_count": null,
   "id": "92ffd0f0-ca6a-4fa3-8459-68ce3e256639",
   "metadata": {},
   "outputs": [],
   "source": []
  },
  {
   "cell_type": "markdown",
   "id": "0c638f4b-ad36-4e94-b2e6-7886286a5c40",
   "metadata": {},
   "source": []
  },
  {
   "cell_type": "markdown",
   "id": "06d74a82-d1a7-4d0a-822d-0491cd871489",
   "metadata": {},
   "source": []
  }
 ],
 "metadata": {
  "kernelspec": {
   "display_name": "Python 3 (ipykernel)",
   "language": "python",
   "name": "python3"
  },
  "language_info": {
   "codemirror_mode": {
    "name": "ipython",
    "version": 3
   },
   "file_extension": ".py",
   "mimetype": "text/x-python",
   "name": "python",
   "nbconvert_exporter": "python",
   "pygments_lexer": "ipython3",
   "version": "3.10.9"
  }
 },
 "nbformat": 4,
 "nbformat_minor": 5
}
